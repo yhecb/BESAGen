{
  "cells": [
    {
      "cell_type": "code",
      "execution_count": null,
      "metadata": {
        "colab": {
          "base_uri": "https://localhost:8080/"
        },
        "id": "dgvN-SH1B47s",
        "outputId": "e0685710-22a3-4969-e54e-9e50013d7212"
      },
      "outputs": [
        {
          "name": "stdout",
          "output_type": "stream",
          "text": [
            "Mounted at /content/drive\n"
          ]
        }
      ],
      "source": [
        "from google.colab import drive\n",
        "drive.mount('/content/drive')"
      ]
    },
    {
      "cell_type": "code",
      "execution_count": null,
      "metadata": {
        "id": "nwcUtrCeCvK3"
      },
      "outputs": [],
      "source": [
        "test_path=\"\"\n",
        "img_path=\"\"\n",
        "mask_path=\"\"\n",
        "out_path=\"\"\n",
        "check_path=\"\"\n"
      ]
    },
    {
      "cell_type": "code",
      "execution_count": null,
      "metadata": {
        "id": "j0F6szruTRhD"
      },
      "outputs": [],
      "source": [
        "import numpy as np\n",
        "import cv2\n",
        "from queue import Queue\n",
        "\n",
        "def process_mask(mask):\n",
        "    height, width = mask.shape\n",
        "    visited = np.zeros_like(mask, dtype=bool)\n",
        "    result_mask = np.zeros_like(mask)\n",
        "    Q = Queue()\n",
        "    for x in range(height):\n",
        "        for y in range(width):\n",
        "            if (x == 0 or y == 0 or x == height - 1 or y == width - 1) :\n",
        "              if(mask[x][y] == 255):\n",
        "                Q.put((x, y))\n",
        "                visited[x][y] = True\n",
        "\n",
        "\n",
        "    dirs = [(0, 1), (0, -1), (1, 0), (-1, 0)]\n",
        "    while not Q.empty():\n",
        "        x, y = Q.get()\n",
        "        result_mask[x][y] = 1\n",
        "        for dx, dy in dirs:\n",
        "            nx, ny = x + dx, y + dy\n",
        "            if nx < 0 or nx >= height or ny < 0 or ny >= width:\n",
        "                continue\n",
        "            if mask[nx][ny] == 255 and not visited[nx][ny]:\n",
        "                Q.put((nx, ny))\n",
        "                visited[nx][ny] = True\n",
        "    return result_mask"
      ]
    },
    {
      "cell_type": "code",
      "execution_count": null,
      "metadata": {
        "colab": {
          "background_save": true
        },
        "id": "f8N7RyGaU0VU"
      },
      "outputs": [],
      "source": [
        "# enviroment generation\n",
        "import os\n",
        "import subprocess\n",
        "import PIL.Image as Image\n",
        "import cv2\n",
        "import numpy as np\n",
        "import torch\n",
        "from torchvision import transforms\n",
        "import torch.nn.functional as F\n",
        "input_path=\"\"\n",
        "mask_path=\"\"\n",
        "out_path=\"\"\n",
        "\n",
        "i=0\n",
        "for name in os.listdir(mask_path):\n",
        "  input_image=os.path.join(input_path,name)\n",
        "  input_mask=os.path.join(mask_path,name)\n",
        "  img=cv2.imread(input_mask, 0)\n",
        "  img=torch.Tensor(img)\n",
        "  img=process_mask(img)\n",
        "  size=img.shape\n",
        "  img=torch.Tensor(img)\n",
        "  padding = (50, 50, 50, 50)\n",
        "  img_padded = F.pad(img, padding, \"constant\", 1)\n",
        "  img_padded=img_padded.numpy()\n",
        "  numpy_array = (img_padded*255).astype(np.uint8)\n",
        "  pil_image = Image.fromarray(numpy_array,'L')\n",
        "  pil_image=pil_image.resize(size)\n",
        "  pil_image.save('aug_mask.png')\n",
        "  input_mask='aug_mask.png'\n",
        "  in_img=cv2.imread(input_image, cv2.IMREAD_COLOR)\n",
        "  padding = (50, 50, 50, 50)\n",
        "  in_img=torch.Tensor(in_img)\n",
        "  in_img=torch.permute(in_img,(2,0,1))\n",
        "  in_img = F.pad(in_img, padding, \"constant\", 0)\n",
        "  in_img=torch.permute(in_img,(1,2,0))\n",
        "  in_img=in_img.numpy()\n",
        "  resized_input=cv2.resize(in_img,size)\n",
        "  resized_input=resized_input[:, :, :3]\n",
        "  img_bgr = cv2.cvtColor(resized_input, cv2.COLOR_RGB2BGR)\n",
        "  cv2.imwrite(\"input_image.png\",img_bgr)\n",
        "  input_image=\"input_image.png\"\n",
        "  out_name=os.path.join(out_path,name)\n",
        "  params={\"--mask\":input_mask,\"--checkpoint\":check_path,\"--image\":input_image,\"--out\":out_name}\n",
        "  params_list = []\n",
        "  for key, value in params.items():\n",
        "    params_list.append(key)\n",
        "    params_list.append(value)\n",
        "\n",
        "# 把主命令和参数放在一个列表中\n",
        "  command = ['python3', test_path] + params_list\n",
        "\n",
        "# 在subprocess.run中运行\n",
        "  subprocess.run(command)\n",
        "  print(out_name)\n",
        "  i+=1\n",
        "\n"
      ]
    },
    {
      "cell_type": "code",
      "execution_count": null,
      "metadata": {
        "id": "R2gSJ8WcPaex"
      },
      "outputs": [],
      "source": [
        "# building erase\n",
        "import os\n",
        "import subprocess\n",
        "import PIL.Image as Image\n",
        "import cv2\n",
        "import numpy as np\n",
        "#import torch\n",
        "input_path=\"\"\n",
        "mask_path=\"\"\n",
        "out_path=\"\"\n",
        "if not os.path.exists(out_path):\n",
        "  os.mkdir(out_path)\n",
        "i=0\n",
        "for name in os.listdir(mask_path):\n",
        "  input_image=os.path.join(input_path,name)\n",
        "  input_mask=os.path.join(mask_path,name)\n",
        "  img=cv2.imread(input_mask, 0)\n",
        "  img=img.astype(np.uint8)\n",
        "  kernel = np.ones((3,3),np.uint8)\n",
        "  dilation = cv2.dilate(img,kernel,iterations = 15)\n",
        "  cv2.imwrite('dilation.png', dilation)\n",
        "  input_mask='dilation.png'\n",
        "  out_name=os.path.join(out_path,name)\n",
        "  params={\"--mask\":input_mask,\"--checkpoint\":check_path,\"--image\":input_image,\"--out\":out_name}\n",
        "  params_list = []\n",
        "  for key, value in params.items():\n",
        "    params_list.append(key)\n",
        "    params_list.append(value)\n",
        "  command = ['python3', test_path] + params_list\n",
        "  subprocess.run(command)\n",
        "  print(i)\n",
        "  i+=1"
      ]
    }
  ],
  "metadata": {
    "accelerator": "GPU",
    "colab": {
      "gpuType": "T4",
      "machine_shape": "hm",
      "provenance": []
    },
    "kernelspec": {
      "display_name": "Python 3",
      "name": "python3"
    },
    "language_info": {
      "name": "python"
    }
  },
  "nbformat": 4,
  "nbformat_minor": 0
}